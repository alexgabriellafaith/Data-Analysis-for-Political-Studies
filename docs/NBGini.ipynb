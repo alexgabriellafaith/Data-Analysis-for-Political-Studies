{
 "cells": [
  {
   "cell_type": "code",
   "execution_count": 1,
   "metadata": {},
   "outputs": [],
   "source": [
    "# LOST CODE NEED TO REDO\n",
    "import pandas as pd"
   ]
  },
  {
   "cell_type": "code",
   "execution_count": 6,
   "metadata": {},
   "outputs": [],
   "source": [
    "gini_df = pd.read_csv(\"Data/UNdata_Export.csv\")\n",
    "avg_global_gini_df = gini_df.groupby(['Year'])['Value'].mean().reset_index()\n",
    "avg_global_gini_df['Year'] = pd.to_numeric(avg_global_gini_df['Year'], errors='coerce') \n",
    "avg_global_gini_df = avg_global_gini_df.dropna(subset=['Year']) \n",
    "avg_global_gini_df.columns = [\"Year\",\"GlobalGini\"]"
   ]
  },
  {
   "cell_type": "code",
   "execution_count": 7,
   "metadata": {},
   "outputs": [],
   "source": [
    "avg_global_gini_df.to_csv(\"Data/AverageGlobalGini.csv\")"
   ]
  },
  {
   "cell_type": "code",
   "execution_count": null,
   "metadata": {},
   "outputs": [],
   "source": []
  }
 ],
 "metadata": {
  "kernelspec": {
   "display_name": "base",
   "language": "python",
   "name": "python3"
  },
  "language_info": {
   "codemirror_mode": {
    "name": "ipython",
    "version": 3
   },
   "file_extension": ".py",
   "mimetype": "text/x-python",
   "name": "python",
   "nbconvert_exporter": "python",
   "pygments_lexer": "ipython3",
   "version": "3.11.4"
  }
 },
 "nbformat": 4,
 "nbformat_minor": 2
}
