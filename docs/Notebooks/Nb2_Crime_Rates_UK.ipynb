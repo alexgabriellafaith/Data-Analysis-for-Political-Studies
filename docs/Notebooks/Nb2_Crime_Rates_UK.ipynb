{
 "cells": [
  {
   "cell_type": "markdown",
   "id": "23c37c1c-644d-4bc1-97c1-faf687c5c366",
   "metadata": {},
   "source": [
    "# Investigating Crime Rates UK\n",
    "\n",
    "We found an API that allows you to put the longitude and latitude of any area and it returned the crime data in a mile radius and date= #https://data.police.uk/docs/method/crime-street/\n",
    "\n",
    "**We used this to investigate:**\n",
    "\n",
    "1. effect of covid lockdowns on crime rates in cities across the UK =  Hypothesis was that at the start of 2022, when covid restrictions were most intense, crime rates would be the lowest\n",
    "\n",
    "2. Most Common Crimes in London by Category"
   ]
  },
  {
   "cell_type": "code",
   "execution_count": 39,
   "id": "e00d6b71-e014-4c27-8fa7-69c1f37ab9b7",
   "metadata": {
    "tags": []
   },
   "outputs": [
    {
     "name": "stdout",
     "output_type": "stream",
     "text": [
      "Requirement already satisfied: streamlit in c:\\users\\alexf\\anaconda3\\lib\\site-packages (1.29.0)Note: you may need to restart the kernel to use updated packages.\n",
      "\n",
      "Requirement already satisfied: altair<6,>=4.0 in c:\\users\\alexf\\anaconda3\\lib\\site-packages (from streamlit) (5.1.2)\n",
      "Requirement already satisfied: blinker<2,>=1.0.0 in c:\\users\\alexf\\anaconda3\\lib\\site-packages (from streamlit) (1.7.0)\n",
      "Requirement already satisfied: cachetools<6,>=4.0 in c:\\users\\alexf\\anaconda3\\lib\\site-packages (from streamlit) (5.3.2)\n",
      "Requirement already satisfied: click<9,>=7.0 in c:\\users\\alexf\\anaconda3\\lib\\site-packages (from streamlit) (8.0.4)\n",
      "Requirement already satisfied: importlib-metadata<7,>=1.4 in c:\\users\\alexf\\anaconda3\\lib\\site-packages (from streamlit) (6.0.0)\n",
      "Requirement already satisfied: numpy<2,>=1.19.3 in c:\\users\\alexf\\anaconda3\\lib\\site-packages (from streamlit) (1.24.3)\n",
      "Requirement already satisfied: packaging<24,>=16.8 in c:\\users\\alexf\\appdata\\roaming\\python\\python311\\site-packages (from streamlit) (23.2)\n",
      "Requirement already satisfied: pandas<3,>=1.3.0 in c:\\users\\alexf\\anaconda3\\lib\\site-packages (from streamlit) (2.1.2)\n",
      "Requirement already satisfied: pillow<11,>=7.1.0 in c:\\users\\alexf\\anaconda3\\lib\\site-packages (from streamlit) (9.4.0)\n",
      "Requirement already satisfied: protobuf<5,>=3.20 in c:\\users\\alexf\\anaconda3\\lib\\site-packages (from streamlit) (4.25.1)\n",
      "Requirement already satisfied: pyarrow>=6.0 in c:\\users\\alexf\\anaconda3\\lib\\site-packages (from streamlit) (11.0.0)\n",
      "Requirement already satisfied: python-dateutil<3,>=2.7.3 in c:\\users\\alexf\\appdata\\roaming\\python\\python311\\site-packages (from streamlit) (2.8.2)\n",
      "Requirement already satisfied: requests<3,>=2.27 in c:\\users\\alexf\\anaconda3\\lib\\site-packages (from streamlit) (2.31.0)\n",
      "Requirement already satisfied: rich<14,>=10.14.0 in c:\\users\\alexf\\anaconda3\\lib\\site-packages (from streamlit) (13.7.0)\n",
      "Requirement already satisfied: tenacity<9,>=8.1.0 in c:\\users\\alexf\\anaconda3\\lib\\site-packages (from streamlit) (8.2.2)\n",
      "Requirement already satisfied: toml<2,>=0.10.1 in c:\\users\\alexf\\anaconda3\\lib\\site-packages (from streamlit) (0.10.2)\n",
      "Requirement already satisfied: typing-extensions<5,>=4.3.0 in c:\\users\\alexf\\anaconda3\\lib\\site-packages (from streamlit) (4.7.1)\n",
      "Requirement already satisfied: tzlocal<6,>=1.1 in c:\\users\\alexf\\anaconda3\\lib\\site-packages (from streamlit) (5.2)\n",
      "Requirement already satisfied: validators<1,>=0.2 in c:\\users\\alexf\\anaconda3\\lib\\site-packages (from streamlit) (0.22.0)\n",
      "Requirement already satisfied: gitpython!=3.1.19,<4,>=3.0.7 in c:\\users\\alexf\\anaconda3\\lib\\site-packages (from streamlit) (3.1.40)\n",
      "Requirement already satisfied: pydeck<1,>=0.8.0b4 in c:\\users\\alexf\\anaconda3\\lib\\site-packages (from streamlit) (0.8.1b0)\n",
      "Requirement already satisfied: tornado<7,>=6.0.3 in c:\\users\\alexf\\appdata\\roaming\\python\\python311\\site-packages (from streamlit) (6.3.3)\n",
      "Requirement already satisfied: watchdog>=2.1.5 in c:\\users\\alexf\\anaconda3\\lib\\site-packages (from streamlit) (2.1.6)\n",
      "Requirement already satisfied: jinja2 in c:\\users\\alexf\\anaconda3\\lib\\site-packages (from altair<6,>=4.0->streamlit) (3.1.2)\n",
      "Requirement already satisfied: jsonschema>=3.0 in c:\\users\\alexf\\anaconda3\\lib\\site-packages (from altair<6,>=4.0->streamlit) (4.17.3)\n",
      "Requirement already satisfied: toolz in c:\\users\\alexf\\anaconda3\\lib\\site-packages (from altair<6,>=4.0->streamlit) (0.12.0)\n",
      "Requirement already satisfied: colorama in c:\\users\\alexf\\appdata\\roaming\\python\\python311\\site-packages (from click<9,>=7.0->streamlit) (0.4.6)\n",
      "Requirement already satisfied: gitdb<5,>=4.0.1 in c:\\users\\alexf\\anaconda3\\lib\\site-packages (from gitpython!=3.1.19,<4,>=3.0.7->streamlit) (4.0.11)\n",
      "Requirement already satisfied: zipp>=0.5 in c:\\users\\alexf\\anaconda3\\lib\\site-packages (from importlib-metadata<7,>=1.4->streamlit) (3.11.0)\n",
      "Requirement already satisfied: pytz>=2020.1 in c:\\users\\alexf\\anaconda3\\lib\\site-packages (from pandas<3,>=1.3.0->streamlit) (2022.7)\n",
      "Requirement already satisfied: tzdata>=2022.1 in c:\\users\\alexf\\anaconda3\\lib\\site-packages (from pandas<3,>=1.3.0->streamlit) (2023.3)\n",
      "Requirement already satisfied: six>=1.5 in c:\\users\\alexf\\appdata\\roaming\\python\\python311\\site-packages (from python-dateutil<3,>=2.7.3->streamlit) (1.16.0)\n",
      "Requirement already satisfied: charset-normalizer<4,>=2 in c:\\users\\alexf\\anaconda3\\lib\\site-packages (from requests<3,>=2.27->streamlit) (2.0.4)\n",
      "Requirement already satisfied: idna<4,>=2.5 in c:\\users\\alexf\\anaconda3\\lib\\site-packages (from requests<3,>=2.27->streamlit) (3.4)\n",
      "Requirement already satisfied: urllib3<3,>=1.21.1 in c:\\users\\alexf\\anaconda3\\lib\\site-packages (from requests<3,>=2.27->streamlit) (1.26.16)\n",
      "Requirement already satisfied: certifi>=2017.4.17 in c:\\users\\alexf\\anaconda3\\lib\\site-packages (from requests<3,>=2.27->streamlit) (2023.7.22)\n",
      "Requirement already satisfied: markdown-it-py>=2.2.0 in c:\\users\\alexf\\anaconda3\\lib\\site-packages (from rich<14,>=10.14.0->streamlit) (2.2.0)\n",
      "Requirement already satisfied: pygments<3.0.0,>=2.13.0 in c:\\users\\alexf\\appdata\\roaming\\python\\python311\\site-packages (from rich<14,>=10.14.0->streamlit) (2.16.1)\n",
      "Requirement already satisfied: smmap<6,>=3.0.1 in c:\\users\\alexf\\anaconda3\\lib\\site-packages (from gitdb<5,>=4.0.1->gitpython!=3.1.19,<4,>=3.0.7->streamlit) (5.0.1)\n",
      "Requirement already satisfied: MarkupSafe>=2.0 in c:\\users\\alexf\\anaconda3\\lib\\site-packages (from jinja2->altair<6,>=4.0->streamlit) (2.1.1)\n",
      "Requirement already satisfied: attrs>=17.4.0 in c:\\users\\alexf\\anaconda3\\lib\\site-packages (from jsonschema>=3.0->altair<6,>=4.0->streamlit) (22.1.0)\n",
      "Requirement already satisfied: pyrsistent!=0.17.0,!=0.17.1,!=0.17.2,>=0.14.0 in c:\\users\\alexf\\anaconda3\\lib\\site-packages (from jsonschema>=3.0->altair<6,>=4.0->streamlit) (0.18.0)\n",
      "Requirement already satisfied: mdurl~=0.1 in c:\\users\\alexf\\anaconda3\\lib\\site-packages (from markdown-it-py>=2.2.0->rich<14,>=10.14.0->streamlit) (0.1.0)\n",
      "Requirement already satisfied: altair in c:\\users\\alexf\\anaconda3\\lib\\site-packages (5.1.2)\n",
      "Requirement already satisfied: pandas in c:\\users\\alexf\\anaconda3\\lib\\site-packages (2.1.2)\n",
      "Requirement already satisfied: vega_datasets in c:\\users\\alexf\\anaconda3\\lib\\site-packages (0.9.0)\n",
      "Requirement already satisfied: jinja2 in c:\\users\\alexf\\anaconda3\\lib\\site-packages (from altair) (3.1.2)\n",
      "Requirement already satisfied: jsonschema>=3.0 in c:\\users\\alexf\\anaconda3\\lib\\site-packages (from altair) (4.17.3)\n",
      "Requirement already satisfied: numpy in c:\\users\\alexf\\anaconda3\\lib\\site-packages (from altair) (1.24.3)\n",
      "Requirement already satisfied: packaging in c:\\users\\alexf\\appdata\\roaming\\python\\python311\\site-packages (from altair) (23.2)\n",
      "Requirement already satisfied: toolz in c:\\users\\alexf\\anaconda3\\lib\\site-packages (from altair) (0.12.0)\n",
      "Requirement already satisfied: python-dateutil>=2.8.2 in c:\\users\\alexf\\appdata\\roaming\\python\\python311\\site-packages (from pandas) (2.8.2)\n",
      "Requirement already satisfied: pytz>=2020.1 in c:\\users\\alexf\\anaconda3\\lib\\site-packages (from pandas) (2022.7)\n",
      "Requirement already satisfied: tzdata>=2022.1 in c:\\users\\alexf\\anaconda3\\lib\\site-packages (from pandas) (2023.3)\n",
      "Requirement already satisfied: attrs>=17.4.0 in c:\\users\\alexf\\anaconda3\\lib\\site-packages (from jsonschema>=3.0->altair) (22.1.0)\n",
      "Requirement already satisfied: pyrsistent!=0.17.0,!=0.17.1,!=0.17.2,>=0.14.0 in c:\\users\\alexf\\anaconda3\\lib\\site-packages (from jsonschema>=3.0->altair) (0.18.0)\n",
      "Requirement already satisfied: six>=1.5 in c:\\users\\alexf\\appdata\\roaming\\python\\python311\\site-packages (from python-dateutil>=2.8.2->pandas) (1.16.0)\n",
      "Requirement already satisfied: MarkupSafe>=2.0 in c:\\users\\alexf\\anaconda3\\lib\\site-packages (from jinja2->altair) (2.1.1)\n",
      "Note: you may need to restart the kernel to use updated packages.\n",
      "Requirement already satisfied: altair_viewer in c:\\users\\alexf\\anaconda3\\lib\\site-packages (0.4.0)\n",
      "Requirement already satisfied: altair in c:\\users\\alexf\\anaconda3\\lib\\site-packages (from altair_viewer) (5.1.2)\n",
      "Requirement already satisfied: altair-data-server>=0.4.0 in c:\\users\\alexf\\anaconda3\\lib\\site-packages (from altair_viewer) (0.4.1)\n",
      "Requirement already satisfied: portpicker in c:\\users\\alexf\\anaconda3\\lib\\site-packages (from altair-data-server>=0.4.0->altair_viewer) (1.6.0)\n",
      "Requirement already satisfied: tornado in c:\\users\\alexf\\appdata\\roaming\\python\\python311\\site-packages (from altair-data-server>=0.4.0->altair_viewer) (6.3.3)\n",
      "Requirement already satisfied: jinja2 in c:\\users\\alexf\\anaconda3\\lib\\site-packages (from altair->altair_viewer) (3.1.2)\n",
      "Requirement already satisfied: jsonschema>=3.0 in c:\\users\\alexf\\anaconda3\\lib\\site-packages (from altair->altair_viewer) (4.17.3)\n",
      "Requirement already satisfied: numpy in c:\\users\\alexf\\anaconda3\\lib\\site-packages (from altair->altair_viewer) (1.24.3)\n",
      "Requirement already satisfied: packaging in c:\\users\\alexf\\appdata\\roaming\\python\\python311\\site-packages (from altair->altair_viewer) (23.2)\n",
      "Requirement already satisfied: pandas>=0.25 in c:\\users\\alexf\\anaconda3\\lib\\site-packages (from altair->altair_viewer) (2.1.2)\n",
      "Requirement already satisfied: toolz in c:\\users\\alexf\\anaconda3\\lib\\site-packages (from altair->altair_viewer) (0.12.0)\n",
      "Requirement already satisfied: attrs>=17.4.0 in c:\\users\\alexf\\anaconda3\\lib\\site-packages (from jsonschema>=3.0->altair->altair_viewer) (22.1.0)\n",
      "Requirement already satisfied: pyrsistent!=0.17.0,!=0.17.1,!=0.17.2,>=0.14.0 in c:\\users\\alexf\\anaconda3\\lib\\site-packages (from jsonschema>=3.0->altair->altair_viewer) (0.18.0)\n",
      "Requirement already satisfied: python-dateutil>=2.8.2 in c:\\users\\alexf\\appdata\\roaming\\python\\python311\\site-packages (from pandas>=0.25->altair->altair_viewer) (2.8.2)\n",
      "Requirement already satisfied: pytz>=2020.1 in c:\\users\\alexf\\anaconda3\\lib\\site-packages (from pandas>=0.25->altair->altair_viewer) (2022.7)\n",
      "Requirement already satisfied: tzdata>=2022.1 in c:\\users\\alexf\\anaconda3\\lib\\site-packages (from pandas>=0.25->altair->altair_viewer) (2023.3)\n",
      "Requirement already satisfied: MarkupSafe>=2.0 in c:\\users\\alexf\\anaconda3\\lib\\site-packages (from jinja2->altair->altair_viewer) (2.1.1)\n",
      "Requirement already satisfied: psutil in c:\\users\\alexf\\appdata\\roaming\\python\\python311\\site-packages (from portpicker->altair-data-server>=0.4.0->altair_viewer) (5.9.6)\n",
      "Requirement already satisfied: six>=1.5 in c:\\users\\alexf\\appdata\\roaming\\python\\python311\\site-packages (from python-dateutil>=2.8.2->pandas>=0.25->altair->altair_viewer) (1.16.0)\n",
      "Note: you may need to restart the kernel to use updated packages.\n",
      "Requirement already satisfied: streamlit in c:\\users\\alexf\\anaconda3\\lib\\site-packages (1.29.0)Note: you may need to restart the kernel to use updated packages.\n",
      "\n",
      "Requirement already satisfied: altair<6,>=4.0 in c:\\users\\alexf\\anaconda3\\lib\\site-packages (from streamlit) (5.1.2)\n",
      "Requirement already satisfied: blinker<2,>=1.0.0 in c:\\users\\alexf\\anaconda3\\lib\\site-packages (from streamlit) (1.7.0)\n",
      "Requirement already satisfied: cachetools<6,>=4.0 in c:\\users\\alexf\\anaconda3\\lib\\site-packages (from streamlit) (5.3.2)\n",
      "Requirement already satisfied: click<9,>=7.0 in c:\\users\\alexf\\anaconda3\\lib\\site-packages (from streamlit) (8.0.4)\n",
      "Requirement already satisfied: importlib-metadata<7,>=1.4 in c:\\users\\alexf\\anaconda3\\lib\\site-packages (from streamlit) (6.0.0)\n",
      "Requirement already satisfied: numpy<2,>=1.19.3 in c:\\users\\alexf\\anaconda3\\lib\\site-packages (from streamlit) (1.24.3)\n",
      "Requirement already satisfied: packaging<24,>=16.8 in c:\\users\\alexf\\appdata\\roaming\\python\\python311\\site-packages (from streamlit) (23.2)\n",
      "Requirement already satisfied: pandas<3,>=1.3.0 in c:\\users\\alexf\\anaconda3\\lib\\site-packages (from streamlit) (2.1.2)\n",
      "Requirement already satisfied: pillow<11,>=7.1.0 in c:\\users\\alexf\\anaconda3\\lib\\site-packages (from streamlit) (9.4.0)\n",
      "Requirement already satisfied: protobuf<5,>=3.20 in c:\\users\\alexf\\anaconda3\\lib\\site-packages (from streamlit) (4.25.1)\n",
      "Requirement already satisfied: pyarrow>=6.0 in c:\\users\\alexf\\anaconda3\\lib\\site-packages (from streamlit) (11.0.0)\n",
      "Requirement already satisfied: python-dateutil<3,>=2.7.3 in c:\\users\\alexf\\appdata\\roaming\\python\\python311\\site-packages (from streamlit) (2.8.2)\n",
      "Requirement already satisfied: requests<3,>=2.27 in c:\\users\\alexf\\anaconda3\\lib\\site-packages (from streamlit) (2.31.0)\n",
      "Requirement already satisfied: rich<14,>=10.14.0 in c:\\users\\alexf\\anaconda3\\lib\\site-packages (from streamlit) (13.7.0)\n",
      "Requirement already satisfied: tenacity<9,>=8.1.0 in c:\\users\\alexf\\anaconda3\\lib\\site-packages (from streamlit) (8.2.2)\n",
      "Requirement already satisfied: toml<2,>=0.10.1 in c:\\users\\alexf\\anaconda3\\lib\\site-packages (from streamlit) (0.10.2)\n",
      "Requirement already satisfied: typing-extensions<5,>=4.3.0 in c:\\users\\alexf\\anaconda3\\lib\\site-packages (from streamlit) (4.7.1)\n",
      "Requirement already satisfied: tzlocal<6,>=1.1 in c:\\users\\alexf\\anaconda3\\lib\\site-packages (from streamlit) (5.2)\n",
      "Requirement already satisfied: validators<1,>=0.2 in c:\\users\\alexf\\anaconda3\\lib\\site-packages (from streamlit) (0.22.0)\n",
      "Requirement already satisfied: gitpython!=3.1.19,<4,>=3.0.7 in c:\\users\\alexf\\anaconda3\\lib\\site-packages (from streamlit) (3.1.40)\n",
      "Requirement already satisfied: pydeck<1,>=0.8.0b4 in c:\\users\\alexf\\anaconda3\\lib\\site-packages (from streamlit) (0.8.1b0)\n",
      "Requirement already satisfied: tornado<7,>=6.0.3 in c:\\users\\alexf\\appdata\\roaming\\python\\python311\\site-packages (from streamlit) (6.3.3)\n",
      "Requirement already satisfied: watchdog>=2.1.5 in c:\\users\\alexf\\anaconda3\\lib\\site-packages (from streamlit) (2.1.6)\n",
      "Requirement already satisfied: jinja2 in c:\\users\\alexf\\anaconda3\\lib\\site-packages (from altair<6,>=4.0->streamlit) (3.1.2)\n",
      "Requirement already satisfied: jsonschema>=3.0 in c:\\users\\alexf\\anaconda3\\lib\\site-packages (from altair<6,>=4.0->streamlit) (4.17.3)\n",
      "Requirement already satisfied: toolz in c:\\users\\alexf\\anaconda3\\lib\\site-packages (from altair<6,>=4.0->streamlit) (0.12.0)\n",
      "Requirement already satisfied: colorama in c:\\users\\alexf\\appdata\\roaming\\python\\python311\\site-packages (from click<9,>=7.0->streamlit) (0.4.6)\n",
      "Requirement already satisfied: gitdb<5,>=4.0.1 in c:\\users\\alexf\\anaconda3\\lib\\site-packages (from gitpython!=3.1.19,<4,>=3.0.7->streamlit) (4.0.11)\n",
      "Requirement already satisfied: zipp>=0.5 in c:\\users\\alexf\\anaconda3\\lib\\site-packages (from importlib-metadata<7,>=1.4->streamlit) (3.11.0)\n",
      "Requirement already satisfied: pytz>=2020.1 in c:\\users\\alexf\\anaconda3\\lib\\site-packages (from pandas<3,>=1.3.0->streamlit) (2022.7)\n",
      "Requirement already satisfied: tzdata>=2022.1 in c:\\users\\alexf\\anaconda3\\lib\\site-packages (from pandas<3,>=1.3.0->streamlit) (2023.3)\n",
      "Requirement already satisfied: six>=1.5 in c:\\users\\alexf\\appdata\\roaming\\python\\python311\\site-packages (from python-dateutil<3,>=2.7.3->streamlit) (1.16.0)\n",
      "Requirement already satisfied: charset-normalizer<4,>=2 in c:\\users\\alexf\\anaconda3\\lib\\site-packages (from requests<3,>=2.27->streamlit) (2.0.4)\n",
      "Requirement already satisfied: idna<4,>=2.5 in c:\\users\\alexf\\anaconda3\\lib\\site-packages (from requests<3,>=2.27->streamlit) (3.4)\n",
      "Requirement already satisfied: urllib3<3,>=1.21.1 in c:\\users\\alexf\\anaconda3\\lib\\site-packages (from requests<3,>=2.27->streamlit) (1.26.16)\n",
      "Requirement already satisfied: certifi>=2017.4.17 in c:\\users\\alexf\\anaconda3\\lib\\site-packages (from requests<3,>=2.27->streamlit) (2023.7.22)\n",
      "Requirement already satisfied: markdown-it-py>=2.2.0 in c:\\users\\alexf\\anaconda3\\lib\\site-packages (from rich<14,>=10.14.0->streamlit) (2.2.0)\n",
      "Requirement already satisfied: pygments<3.0.0,>=2.13.0 in c:\\users\\alexf\\appdata\\roaming\\python\\python311\\site-packages (from rich<14,>=10.14.0->streamlit) (2.16.1)\n",
      "Requirement already satisfied: smmap<6,>=3.0.1 in c:\\users\\alexf\\anaconda3\\lib\\site-packages (from gitdb<5,>=4.0.1->gitpython!=3.1.19,<4,>=3.0.7->streamlit) (5.0.1)\n",
      "Requirement already satisfied: MarkupSafe>=2.0 in c:\\users\\alexf\\anaconda3\\lib\\site-packages (from jinja2->altair<6,>=4.0->streamlit) (2.1.1)\n",
      "Requirement already satisfied: attrs>=17.4.0 in c:\\users\\alexf\\anaconda3\\lib\\site-packages (from jsonschema>=3.0->altair<6,>=4.0->streamlit) (22.1.0)\n",
      "Requirement already satisfied: pyrsistent!=0.17.0,!=0.17.1,!=0.17.2,>=0.14.0 in c:\\users\\alexf\\anaconda3\\lib\\site-packages (from jsonschema>=3.0->altair<6,>=4.0->streamlit) (0.18.0)\n",
      "Requirement already satisfied: mdurl~=0.1 in c:\\users\\alexf\\anaconda3\\lib\\site-packages (from markdown-it-py>=2.2.0->rich<14,>=10.14.0->streamlit) (0.1.0)\n"
     ]
    }
   ],
   "source": [
    "import requests\n",
    "import pandas as pd\n",
    "import streamlit as st\n",
    "import altair as alt"
   ]
  },
  {
   "cell_type": "markdown",
   "id": "11fd18d4-ad88-4020-b532-f0f16788115f",
   "metadata": {},
   "source": [
    "# 1.Effect of COVID lockdowns on crime rates \n"
   ]
  },
  {
   "cell_type": "markdown",
   "id": "d2f41c89-5978-4792-afd0-d4450c22cee5",
   "metadata": {},
   "source": [
    "### Newcastle Central Station "
   ]
  },
  {
   "cell_type": "code",
   "execution_count": 40,
   "id": "f6e1d0b2-d81a-4c32-b4cc-ef9cc821a18f",
   "metadata": {
    "tags": []
   },
   "outputs": [
    {
     "name": "stdout",
     "output_type": "stream",
     "text": [
      "[995, 889, 1201, 1141, 1343, 1458, 1515, 1705, 1463, 1715, 1692, 1544]\n"
     ]
    }
   ],
   "source": [
    "# create list with months of the year \n",
    "months=['01', '02', '03', '04', '05', '06', '07', '08', '09', '10', '11', '12']\n",
    "\n",
    "\n",
    "#create emprty list\n",
    "crimerates2021newcastle=[]\n",
    "\n",
    "#loop through the months in the year in the URL\n",
    "for month in months:\n",
    "    url = 'https://data.police.uk/api/crimes-street/all-crime?lat=54.9691552&lng=-1.6188458&date=2021-'+month+''\n",
    "    response = requests.get(url)\n",
    "    if response.status_code == 200:\n",
    "        data = response.json() \n",
    "        crimerates2021newcastle.append(len(data))\n",
    "    else:\n",
    "        print(f\"Error: {response.status_code}\")\n",
    "        print(response.text)\n",
    "\n",
    "\n",
    "print(crimerates2021newcastle)\n"
   ]
  },
  {
   "cell_type": "markdown",
   "id": "e2006c4c-0110-4b51-8ad1-77b2ba6e4a6a",
   "metadata": {},
   "source": [
    " ### London Kings Cross"
   ]
  },
  {
   "cell_type": "code",
   "execution_count": 41,
   "id": "e067643a-6a78-41e6-a779-433ee41eb091",
   "metadata": {
    "tags": []
   },
   "outputs": [
    {
     "name": "stdout",
     "output_type": "stream",
     "text": [
      "[1505, 1553, 1896, 1938, 2326, 2519, 2453, 2330, 2261, 2594, 2550, 2301]\n"
     ]
    }
   ],
   "source": [
    "# repeated above process for the following 3 cities\n",
    "import requests\n",
    "\n",
    "months=['01', '02', '03', '04', '05', '06', '07', '08', '09', '10', '11', '12']\n",
    "\n",
    "crimerates2021london=[]\n",
    "\n",
    "for month in months:\n",
    "    url = 'https://data.police.uk/api/crimes-street/all-crime?lat=51.5307106&lng=-0.1274346&date=2021-'+month+''\n",
    "    response = requests.get(url)\n",
    "    if response.status_code == 200:\n",
    "        data = response.json()  # Assuming the response is in JSON format\n",
    "        crimerates2021london.append(len(data))\n",
    "    else:\n",
    "        print(f\"Error: {response.status_code}\")\n",
    "        print(response.text)\n",
    "\n",
    "print(crimerates2021london)"
   ]
  },
  {
   "cell_type": "markdown",
   "id": "c6ae238f-7dd7-4631-9949-a095cee23074",
   "metadata": {
    "tags": []
   },
   "source": [
    "### Manchester Piccadilly Station"
   ]
  },
  {
   "cell_type": "code",
   "execution_count": 42,
   "id": "97744885-89c4-42e7-8689-f3a0689a8639",
   "metadata": {
    "tags": []
   },
   "outputs": [
    {
     "name": "stdout",
     "output_type": "stream",
     "text": [
      "[36, 10, 13, 17, 8, 38, 71, 61, 40, 52, 54, 40]\n"
     ]
    }
   ],
   "source": [
    "months=['01', '02', '03', '04', '05', '06', '07', '08', '09', '10', '11', '12']\n",
    "\n",
    "crimerates2021manchester=[]\n",
    "\n",
    "for month in months:\n",
    "    url = 'https://data.police.uk/api/crimes-street/all-crime?lat=53.4810422&lng=-2.2440995&date=2021-'+month+''\n",
    "    response = requests.get(url)\n",
    "    if response.status_code == 200:\n",
    "        data = response.json()  # Assuming the response is in JSON format\n",
    "        crimerates2021manchester.append(len(data))\n",
    "    else:\n",
    "        print(f\"Error: {response.status_code}\")\n",
    "        print(response.text)\n",
    "\n",
    "\n",
    "print(crimerates2021manchester)\n",
    "\n"
   ]
  },
  {
   "cell_type": "markdown",
   "id": "317f9dd6-f3db-4b61-8108-5680187ae346",
   "metadata": {},
   "source": [
    "### Portsmouth Fratton Station"
   ]
  },
  {
   "cell_type": "code",
   "execution_count": 43,
   "id": "f6882dc4-0d80-4ddb-8c0f-b8075435aa9e",
   "metadata": {
    "tags": []
   },
   "outputs": [
    {
     "name": "stdout",
     "output_type": "stream",
     "text": [
      "[1093, 1003, 1314, 1335, 1422, 1439, 1355, 1421, 1447, 1496, 1599, 1389]\n"
     ]
    }
   ],
   "source": [
    "months=['01', '02', '03', '04', '05', '06', '07', '08', '09', '10', '11', '12']\n",
    "\n",
    "crimerates2021portsmouth=[]\n",
    "\n",
    "for month in months:\n",
    "    url = 'https://data.police.uk/api/crimes-street/all-crime?lat=50.7964591&lng=-1.0764905&date=2021-'+month+''\n",
    "    response = requests.get(url)\n",
    "    if response.status_code == 200:\n",
    "        data = response.json()  # Assuming the response is in JSON format\n",
    "        crimerates2021portsmouth.append(len(data))\n",
    "    else:\n",
    "        print(f\"Error: {response.status_code}\")\n",
    "        print(response.text)\n",
    "\n",
    "\n",
    "print(crimerates2021portsmouth)\n"
   ]
  },
  {
   "cell_type": "code",
   "execution_count": 44,
   "id": "4f40fdb3-69c7-4912-b305-3e4d95f4c019",
   "metadata": {
    "tags": []
   },
   "outputs": [],
   "source": [
    "# create a data frame with crime rates of each UK city \n",
    "\n",
    "UKcrimerates2021 = pd.DataFrame({\n",
    "    'Month': months,\n",
    "    'London': crimerates2021london,\n",
    "    'Manchester': crimerates2021manchester,\n",
    "    'Newcastle': crimerates2021newcastle,\n",
    "    'Portsmouth': crimerates2021portsmouth\n",
    "})\n",
    "\n",
    "\n",
    "crimerates2021.to_csv('..Data/crimerates2021.csv', index=False)"
   ]
  },
  {
   "cell_type": "markdown",
   "id": "a83d2614-a82b-46f4-941b-36380276b3ce",
   "metadata": {},
   "source": [
    "### Creating Crime Rate graph"
   ]
  },
  {
   "cell_type": "code",
   "execution_count": 45,
   "id": "bd5010db-a0d5-43f7-999f-ce3c8d2bd420",
   "metadata": {
    "tags": []
   },
   "outputs": [
    {
     "data": {
      "text/html": [
       "\n",
       "<style>\n",
       "  #altair-viz-b630124b36bf44b3966936ce93067829.vega-embed {\n",
       "    width: 100%;\n",
       "    display: flex;\n",
       "  }\n",
       "\n",
       "  #altair-viz-b630124b36bf44b3966936ce93067829.vega-embed details,\n",
       "  #altair-viz-b630124b36bf44b3966936ce93067829.vega-embed details summary {\n",
       "    position: relative;\n",
       "  }\n",
       "</style>\n",
       "<div id=\"altair-viz-b630124b36bf44b3966936ce93067829\"></div>\n",
       "<script type=\"text/javascript\">\n",
       "  var VEGA_DEBUG = (typeof VEGA_DEBUG == \"undefined\") ? {} : VEGA_DEBUG;\n",
       "  (function(spec, embedOpt){\n",
       "    let outputDiv = document.currentScript.previousElementSibling;\n",
       "    if (outputDiv.id !== \"altair-viz-b630124b36bf44b3966936ce93067829\") {\n",
       "      outputDiv = document.getElementById(\"altair-viz-b630124b36bf44b3966936ce93067829\");\n",
       "    }\n",
       "    const paths = {\n",
       "      \"vega\": \"https://cdn.jsdelivr.net/npm/vega@5?noext\",\n",
       "      \"vega-lib\": \"https://cdn.jsdelivr.net/npm/vega-lib?noext\",\n",
       "      \"vega-lite\": \"https://cdn.jsdelivr.net/npm/vega-lite@5.15.1?noext\",\n",
       "      \"vega-embed\": \"https://cdn.jsdelivr.net/npm/vega-embed@6?noext\",\n",
       "    };\n",
       "\n",
       "    function maybeLoadScript(lib, version) {\n",
       "      var key = `${lib.replace(\"-\", \"\")}_version`;\n",
       "      return (VEGA_DEBUG[key] == version) ?\n",
       "        Promise.resolve(paths[lib]) :\n",
       "        new Promise(function(resolve, reject) {\n",
       "          var s = document.createElement('script');\n",
       "          document.getElementsByTagName(\"head\")[0].appendChild(s);\n",
       "          s.async = true;\n",
       "          s.onload = () => {\n",
       "            VEGA_DEBUG[key] = version;\n",
       "            return resolve(paths[lib]);\n",
       "          };\n",
       "          s.onerror = () => reject(`Error loading script: ${paths[lib]}`);\n",
       "          s.src = paths[lib];\n",
       "        });\n",
       "    }\n",
       "\n",
       "    function showError(err) {\n",
       "      outputDiv.innerHTML = `<div class=\"error\" style=\"color:red;\">${err}</div>`;\n",
       "      throw err;\n",
       "    }\n",
       "\n",
       "    function displayChart(vegaEmbed) {\n",
       "      vegaEmbed(outputDiv, spec, embedOpt)\n",
       "        .catch(err => showError(`Javascript Error: ${err.message}<br>This usually means there's a typo in your chart specification. See the javascript console for the full traceback.`));\n",
       "    }\n",
       "\n",
       "    if(typeof define === \"function\" && define.amd) {\n",
       "      requirejs.config({paths});\n",
       "      require([\"vega-embed\"], displayChart, err => showError(`Error loading script: ${err.message}`));\n",
       "    } else {\n",
       "      maybeLoadScript(\"vega\", \"5\")\n",
       "        .then(() => maybeLoadScript(\"vega-lite\", \"5.15.1\"))\n",
       "        .then(() => maybeLoadScript(\"vega-embed\", \"6\"))\n",
       "        .catch(showError)\n",
       "        .then(() => displayChart(vegaEmbed));\n",
       "    }\n",
       "  })({\"config\": {\"view\": {\"continuousWidth\": 300, \"continuousHeight\": 300}}, \"data\": {\"name\": \"data-eb0da74f580a0cbdb4aadc9eacd4a0a8\"}, \"mark\": {\"type\": \"line\"}, \"encoding\": {\"color\": {\"field\": \"city\", \"title\": \"City\", \"type\": \"nominal\"}, \"tooltip\": [{\"field\": \"Month\", \"type\": \"ordinal\"}, {\"field\": \"city\", \"type\": \"nominal\"}, {\"field\": \"crime_rate\", \"type\": \"quantitative\"}], \"x\": {\"field\": \"Month\", \"title\": \"Month\", \"type\": \"ordinal\"}, \"y\": {\"field\": \"crime_rate\", \"title\": \"Crime Rates\", \"type\": \"quantitative\"}}, \"height\": 300, \"params\": [{\"name\": \"param_2\", \"select\": {\"type\": \"interval\", \"encodings\": [\"x\", \"y\"]}, \"bind\": \"scales\"}], \"title\": \"Crime Rates in Cities (2021)\", \"transform\": [{\"fold\": [\"London\", \"Manchester\", \"Newcastle\", \"Portsmouth\"], \"as\": [\"city\", \"crime_rate\"]}], \"width\": 500, \"$schema\": \"https://vega.github.io/schema/vega-lite/v5.15.1.json\", \"datasets\": {\"data-eb0da74f580a0cbdb4aadc9eacd4a0a8\": [{\"Month\": \"01\", \"London\": 1505, \"Manchester\": 36, \"Newcastle\": 995, \"Portsmouth\": 1093}, {\"Month\": \"02\", \"London\": 1553, \"Manchester\": 10, \"Newcastle\": 889, \"Portsmouth\": 1003}, {\"Month\": \"03\", \"London\": 1896, \"Manchester\": 13, \"Newcastle\": 1201, \"Portsmouth\": 1314}, {\"Month\": \"04\", \"London\": 1938, \"Manchester\": 17, \"Newcastle\": 1141, \"Portsmouth\": 1335}, {\"Month\": \"05\", \"London\": 2326, \"Manchester\": 8, \"Newcastle\": 1343, \"Portsmouth\": 1422}, {\"Month\": \"06\", \"London\": 2519, \"Manchester\": 38, \"Newcastle\": 1458, \"Portsmouth\": 1439}, {\"Month\": \"07\", \"London\": 2453, \"Manchester\": 71, \"Newcastle\": 1515, \"Portsmouth\": 1355}, {\"Month\": \"08\", \"London\": 2330, \"Manchester\": 61, \"Newcastle\": 1705, \"Portsmouth\": 1421}, {\"Month\": \"09\", \"London\": 2261, \"Manchester\": 40, \"Newcastle\": 1463, \"Portsmouth\": 1447}, {\"Month\": \"10\", \"London\": 2594, \"Manchester\": 52, \"Newcastle\": 1715, \"Portsmouth\": 1496}, {\"Month\": \"11\", \"London\": 2550, \"Manchester\": 54, \"Newcastle\": 1692, \"Portsmouth\": 1599}, {\"Month\": \"12\", \"London\": 2301, \"Manchester\": 40, \"Newcastle\": 1544, \"Portsmouth\": 1389}]}}, {\"mode\": \"vega-lite\"});\n",
       "</script>"
      ],
      "text/plain": [
       "alt.Chart(...)"
      ]
     },
     "execution_count": 45,
     "metadata": {},
     "output_type": "execute_result"
    }
   ],
   "source": [
    "# creating a graph using altaire, chatGBT helped us with this as we were unsure how to add multiple lines to graph\n",
    "\n",
    "UKcrimerategraph = alt.Chart(crimerates2021).mark_line().encode(\n",
    "    x=alt.X('Month:O', title='Month'),  \n",
    "    color=alt.Color('city:N', title='City'), \n",
    "    y=alt.Y('crime_rate:Q', title='Crime Rates'),\n",
    "    tooltip=['Month:O', 'city:N', 'crime_rate:Q'] \n",
    ").properties(\n",
    "    width=500, \n",
    "    height=300,\n",
    "    title='Crime Rates in Cities (2021)'\n",
    ").transform_fold(  \n",
    "    fold=['London', 'Manchester', 'Newcastle', 'Portsmouth' ],\n",
    "    as_=['city', 'crime_rate']\n",
    "\n",
    ").interactive()\n",
    "\n",
    "\n",
    "UKcrimerategraph \n"
   ]
  },
  {
   "cell_type": "markdown",
   "id": "c07a0089-4d53-4a5b-a814-613b4cd0509b",
   "metadata": {
    "tags": []
   },
   "source": [
    "Manchester results made us question the collection of data- problems with effiecency of data collection in different cities. Although manchester had slightly more intense lockdowns, it is unlikely this caused such an intense difference to newcastle, as they are similar sizes.\n"
   ]
  },
  {
   "cell_type": "markdown",
   "id": "bac449c0-5f41-49cf-a95b-e4b15bdaa09e",
   "metadata": {},
   "source": [
    "# 2. Exploring Most Common Crimes in London by Category"
   ]
  },
  {
   "cell_type": "code",
   "execution_count": 46,
   "id": "31ae32c1-dd11-48c6-91bf-1752ba51216b",
   "metadata": {},
   "outputs": [],
   "source": [
    "#sending request to the URL\n",
    "url = 'https://data.police.uk/api/crimes-street/all-crime?lat=54.991677&lng=-1.603831&date=2022-01'\n",
    "response = requests.get(url)\n",
    "data = response.json()"
   ]
  },
  {
   "cell_type": "code",
   "execution_count": 47,
   "id": "f70dea7e-d60e-4cc0-8568-77b9a4d9991a",
   "metadata": {},
   "outputs": [],
   "source": [
    "#creating list of months to loop through\n",
    "months=['01', '02', '03', '04', '05', '06', '07', '08', '09', '10', '11', '12']\n",
    "\n",
    "#creating empty list\n",
    "crimerateslondon=[]\n",
    "\n",
    "for month in months:\n",
    "    url = 'https://data.police.uk/api/crimes-street/all-crime?lat=51.5307106&lng=-0.1274346&date=2021-'+month+''\n",
    "    response = requests.get(url)\n",
    "    if response.status_code == 200:\n",
    "        data = response.json()  "
   ]
  },
  {
   "cell_type": "code",
   "execution_count": 52,
   "id": "5d6a5671-ec0d-4e76-9c7b-28cb659ba103",
   "metadata": {
    "tags": []
   },
   "outputs": [
    {
     "data": {
      "text/html": [
       "<div>\n",
       "<style scoped>\n",
       "    .dataframe tbody tr th:only-of-type {\n",
       "        vertical-align: middle;\n",
       "    }\n",
       "\n",
       "    .dataframe tbody tr th {\n",
       "        vertical-align: top;\n",
       "    }\n",
       "\n",
       "    .dataframe thead th {\n",
       "        text-align: right;\n",
       "    }\n",
       "</style>\n",
       "<table border=\"1\" class=\"dataframe\">\n",
       "  <thead>\n",
       "    <tr style=\"text-align: right;\">\n",
       "      <th></th>\n",
       "      <th>category</th>\n",
       "      <th>location_type</th>\n",
       "      <th>location</th>\n",
       "      <th>context</th>\n",
       "      <th>outcome_status</th>\n",
       "      <th>persistent_id</th>\n",
       "      <th>id</th>\n",
       "      <th>location_subtype</th>\n",
       "      <th>month</th>\n",
       "    </tr>\n",
       "  </thead>\n",
       "  <tbody>\n",
       "    <tr>\n",
       "      <th>0</th>\n",
       "      <td>anti-social-behaviour</td>\n",
       "      <td>Force</td>\n",
       "      <td>{'latitude': '51.538644', 'street': {'id': 964...</td>\n",
       "      <td></td>\n",
       "      <td>None</td>\n",
       "      <td></td>\n",
       "      <td>89873745</td>\n",
       "      <td></td>\n",
       "      <td>2021-01</td>\n",
       "    </tr>\n",
       "    <tr>\n",
       "      <th>1</th>\n",
       "      <td>anti-social-behaviour</td>\n",
       "      <td>Force</td>\n",
       "      <td>{'latitude': '51.530647', 'street': {'id': 960...</td>\n",
       "      <td></td>\n",
       "      <td>None</td>\n",
       "      <td></td>\n",
       "      <td>89873750</td>\n",
       "      <td></td>\n",
       "      <td>2021-01</td>\n",
       "    </tr>\n",
       "    <tr>\n",
       "      <th>2</th>\n",
       "      <td>anti-social-behaviour</td>\n",
       "      <td>Force</td>\n",
       "      <td>{'latitude': '51.527795', 'street': {'id': 960...</td>\n",
       "      <td></td>\n",
       "      <td>None</td>\n",
       "      <td></td>\n",
       "      <td>89873448</td>\n",
       "      <td></td>\n",
       "      <td>2021-01</td>\n",
       "    </tr>\n",
       "    <tr>\n",
       "      <th>3</th>\n",
       "      <td>anti-social-behaviour</td>\n",
       "      <td>Force</td>\n",
       "      <td>{'latitude': '51.527795', 'street': {'id': 960...</td>\n",
       "      <td></td>\n",
       "      <td>None</td>\n",
       "      <td></td>\n",
       "      <td>89873449</td>\n",
       "      <td></td>\n",
       "      <td>2021-01</td>\n",
       "    </tr>\n",
       "    <tr>\n",
       "      <th>4</th>\n",
       "      <td>anti-social-behaviour</td>\n",
       "      <td>Force</td>\n",
       "      <td>{'latitude': '51.538525', 'street': {'id': 964...</td>\n",
       "      <td></td>\n",
       "      <td>None</td>\n",
       "      <td></td>\n",
       "      <td>89873457</td>\n",
       "      <td></td>\n",
       "      <td>2021-01</td>\n",
       "    </tr>\n",
       "  </tbody>\n",
       "</table>\n",
       "</div>"
      ],
      "text/plain": [
       "                category location_type  \\\n",
       "0  anti-social-behaviour         Force   \n",
       "1  anti-social-behaviour         Force   \n",
       "2  anti-social-behaviour         Force   \n",
       "3  anti-social-behaviour         Force   \n",
       "4  anti-social-behaviour         Force   \n",
       "\n",
       "                                            location context outcome_status  \\\n",
       "0  {'latitude': '51.538644', 'street': {'id': 964...                   None   \n",
       "1  {'latitude': '51.530647', 'street': {'id': 960...                   None   \n",
       "2  {'latitude': '51.527795', 'street': {'id': 960...                   None   \n",
       "3  {'latitude': '51.527795', 'street': {'id': 960...                   None   \n",
       "4  {'latitude': '51.538525', 'street': {'id': 964...                   None   \n",
       "\n",
       "  persistent_id        id location_subtype    month  \n",
       "0                89873745                   2021-01  \n",
       "1                89873750                   2021-01  \n",
       "2                89873448                   2021-01  \n",
       "3                89873449                   2021-01  \n",
       "4                89873457                   2021-01  "
      ]
     },
     "execution_count": 52,
     "metadata": {},
     "output_type": "execute_result"
    }
   ],
   "source": [
    "# creating empty dictionary and month list\n",
    "months = ['01', '02', '03', '04', '05', '06', '07', '08', '09', '10', '11', '12']\n",
    "crimelondon = []\n",
    "\n",
    "#looping through months and saving all data for each crime to 'crimelondon'\n",
    "for month in months:\n",
    "    url = f'https://data.police.uk/api/crimes-street/all-crime?lat=51.5307106&lng=-0.1274346&date=2021-{month}'\n",
    "    response = requests.get(url)\n",
    "    \n",
    "    if response.status_code == 200:\n",
    "        data = response.json()\n",
    "        crimelondon.extend(data)\n",
    "\n",
    "# turning crimelondon into a dataframe\n",
    "londoncrimeinformation = pd.DataFrame(crimelondon)\n",
    "\n",
    "londoncrimeinformation.head()"
   ]
  },
  {
   "cell_type": "markdown",
   "id": "a5fdb788-aaa7-4aa8-9393-baca20776957",
   "metadata": {},
   "source": [
    "### Cleaning Data\n",
    "\n",
    "Above turned 26,000 rows of data with alot of irrelevent information eg crime id. Below we cleaned the data so that we just had relevent data, then used value_counts() to count crimes per category"
   ]
  },
  {
   "cell_type": "code",
   "execution_count": 54,
   "id": "1cb678ce-2522-4ff7-9c6b-65780f840458",
   "metadata": {
    "tags": []
   },
   "outputs": [
    {
     "data": {
      "text/html": [
       "<div>\n",
       "<style scoped>\n",
       "    .dataframe tbody tr th:only-of-type {\n",
       "        vertical-align: middle;\n",
       "    }\n",
       "\n",
       "    .dataframe tbody tr th {\n",
       "        vertical-align: top;\n",
       "    }\n",
       "\n",
       "    .dataframe thead th {\n",
       "        text-align: right;\n",
       "    }\n",
       "</style>\n",
       "<table border=\"1\" class=\"dataframe\">\n",
       "  <thead>\n",
       "    <tr style=\"text-align: right;\">\n",
       "      <th></th>\n",
       "      <th>category</th>\n",
       "      <th>count</th>\n",
       "    </tr>\n",
       "  </thead>\n",
       "  <tbody>\n",
       "    <tr>\n",
       "      <th>0</th>\n",
       "      <td>anti-social-behaviour</td>\n",
       "      <td>7044</td>\n",
       "    </tr>\n",
       "    <tr>\n",
       "      <th>1</th>\n",
       "      <td>violent-crime</td>\n",
       "      <td>4471</td>\n",
       "    </tr>\n",
       "    <tr>\n",
       "      <th>2</th>\n",
       "      <td>other-theft</td>\n",
       "      <td>3333</td>\n",
       "    </tr>\n",
       "    <tr>\n",
       "      <th>3</th>\n",
       "      <td>theft-from-the-person</td>\n",
       "      <td>3014</td>\n",
       "    </tr>\n",
       "    <tr>\n",
       "      <th>4</th>\n",
       "      <td>public-order</td>\n",
       "      <td>1728</td>\n",
       "    </tr>\n",
       "    <tr>\n",
       "      <th>5</th>\n",
       "      <td>drugs</td>\n",
       "      <td>998</td>\n",
       "    </tr>\n",
       "    <tr>\n",
       "      <th>6</th>\n",
       "      <td>vehicle-crime</td>\n",
       "      <td>975</td>\n",
       "    </tr>\n",
       "    <tr>\n",
       "      <th>7</th>\n",
       "      <td>burglary</td>\n",
       "      <td>945</td>\n",
       "    </tr>\n",
       "    <tr>\n",
       "      <th>8</th>\n",
       "      <td>bicycle-theft</td>\n",
       "      <td>938</td>\n",
       "    </tr>\n",
       "    <tr>\n",
       "      <th>9</th>\n",
       "      <td>criminal-damage-arson</td>\n",
       "      <td>911</td>\n",
       "    </tr>\n",
       "    <tr>\n",
       "      <th>10</th>\n",
       "      <td>shoplifting</td>\n",
       "      <td>851</td>\n",
       "    </tr>\n",
       "    <tr>\n",
       "      <th>11</th>\n",
       "      <td>robbery</td>\n",
       "      <td>752</td>\n",
       "    </tr>\n",
       "    <tr>\n",
       "      <th>12</th>\n",
       "      <td>other-crime</td>\n",
       "      <td>157</td>\n",
       "    </tr>\n",
       "    <tr>\n",
       "      <th>13</th>\n",
       "      <td>possession-of-weapons</td>\n",
       "      <td>109</td>\n",
       "    </tr>\n",
       "  </tbody>\n",
       "</table>\n",
       "</div>"
      ],
      "text/plain": [
       "                 category  count\n",
       "0   anti-social-behaviour   7044\n",
       "1           violent-crime   4471\n",
       "2             other-theft   3333\n",
       "3   theft-from-the-person   3014\n",
       "4            public-order   1728\n",
       "5                   drugs    998\n",
       "6           vehicle-crime    975\n",
       "7                burglary    945\n",
       "8           bicycle-theft    938\n",
       "9   criminal-damage-arson    911\n",
       "10            shoplifting    851\n",
       "11                robbery    752\n",
       "12            other-crime    157\n",
       "13  possession-of-weapons    109"
      ]
     },
     "execution_count": 54,
     "metadata": {},
     "output_type": "execute_result"
    }
   ],
   "source": [
    "#cleaning the data so that we just had relevent data, then used value_counts() to count crimes per category\n",
    "\n",
    "crimecategorylondon2022 = londoncrimeinformation['category'].value_counts().reset_index()\n",
    "crimecategorylondon2022.columns = ['category', 'count']\n",
    "\n",
    "# saving to csv in data folder\n",
    "crimecategorylondon2022.to_csv('..Data/crimecategorylondon2022.csv', index=False)\n",
    "\n",
    "crimecategorylondon2022\n"
   ]
  },
  {
   "cell_type": "markdown",
   "id": "a7b29458-6c7f-41a3-b2af-854ba137e6f7",
   "metadata": {},
   "source": [
    "### creating bar chart"
   ]
  },
  {
   "cell_type": "code",
   "execution_count": null,
   "id": "c0c39376-eafa-48cc-910f-c6d9c8cc1450",
   "metadata": {
    "tags": []
   },
   "outputs": [],
   "source": [
    "# creating graph- used ChatGBT to help us with this and had only made line graphs in altaire previously\n",
    "\n",
    "Category_bar_chart = alt.Chart(crimecategorylondon2022).mark_bar().encode(\n",
    "    x='count:Q',\n",
    "    y=alt.Y('category:N', sort='-x'),\n",
    "    tooltip=['category:N', 'count:Q'] \n",
    ").properties(\n",
    "    title='Crime by Category in London 2021' \n",
    ")\n",
    "\n",
    "\n",
    "Category_bar_chart"
   ]
  }
 ],
 "metadata": {
  "kernelspec": {
   "display_name": "Python 3 (ipykernel)",
   "language": "python",
   "name": "python3"
  },
  "language_info": {
   "codemirror_mode": {
    "name": "ipython",
    "version": 3
   },
   "file_extension": ".py",
   "mimetype": "text/x-python",
   "name": "python",
   "nbconvert_exporter": "python",
   "pygments_lexer": "ipython3",
   "version": "3.11.4"
  }
 },
 "nbformat": 4,
 "nbformat_minor": 5
}
